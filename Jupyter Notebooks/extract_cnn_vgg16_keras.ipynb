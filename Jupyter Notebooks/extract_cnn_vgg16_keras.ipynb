{
 "cells": [
  {
   "cell_type": "code",
   "execution_count": 2,
   "metadata": {},
   "outputs": [],
   "source": [
    "from keras.applications.vgg16 import VGG16\n",
    "from keras.preprocessing import image\n",
    "import numpy as np\n",
    "from keras.applications.vgg16 import preprocess_input\n",
    "from numpy import linalg as LA\n",
    "\n",
    "class VGGNet:\n",
    "    def __init__(self):\n",
    "        self.inp_shp = (224,224,3) #(width,height,count(RGB))\n",
    "        self.weight='imagenet'\n",
    "        self.pooling='max'\n",
    "        self.model=VGG16(weights = self.weight, input_shape = (self.inp_shp[0], self.inp_shp[1], self.inp_shp[2]), pooling = self.pooling, include_top = False)\n",
    "        self.model.predict(np.zeros((1, 224, 224 , 3))) #to get a prediction of the probability of the image belonging to each of the known object types.\n",
    "        \n",
    "        \n",
    "    '''\n",
    "    Use vgg16 model to extract features\n",
    "    Output normalized feature vector\n",
    "    '''\n",
    "    \n",
    "    def extract_feat(self, image_path):\n",
    "        img = image.load_img(image_path, target_size=(self.inp_shp[0], self.inp_shp[1])) #Keras provides the load_img() function for loading an image from file as a PIL image object.\n",
    "        img = image.img_to_array(img)# converting a loaded image in PIL format into a NumPy array\n",
    "        img = np.expand_dims(img, axis=0) #shape(1,2,2)\n",
    "        img = preprocess_input(img)#to adequate your image to the format the model requires\n",
    "        feat = self.model.predict(img)\n",
    "        norm_feat = feat[0]/LA.norm(feat[0])#normalized feature\n",
    "        return norm_feat\n",
    "        \n",
    "    \n",
    "\n",
    "    \n",
    "    \n",
    "        "
   ]
  },
  {
   "cell_type": "code",
   "execution_count": null,
   "metadata": {},
   "outputs": [],
   "source": []
  },
  {
   "cell_type": "code",
   "execution_count": null,
   "metadata": {},
   "outputs": [],
   "source": []
  }
 ],
 "metadata": {
  "kernelspec": {
   "display_name": "Python 3",
   "language": "python",
   "name": "python3"
  },
  "language_info": {
   "codemirror_mode": {
    "name": "ipython",
    "version": 3
   },
   "file_extension": ".py",
   "mimetype": "text/x-python",
   "name": "python",
   "nbconvert_exporter": "python",
   "pygments_lexer": "ipython3",
   "version": "3.7.3"
  }
 },
 "nbformat": 4,
 "nbformat_minor": 2
}
