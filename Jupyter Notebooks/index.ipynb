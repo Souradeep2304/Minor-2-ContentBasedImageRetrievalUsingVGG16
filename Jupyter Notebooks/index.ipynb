{
 "cells": [
  {
   "cell_type": "code",
   "execution_count": 3,
   "metadata": {},
   "outputs": [
    {
     "name": "stdout",
     "output_type": "stream",
     "text": [
      "FEATURE EXTRACTION\n",
      "==================\n",
      "[[-0.          0.02022609  0.07434679 ... -0.          0.08154206\n",
      "  -0.        ]\n",
      " [ 0.01623608  0.05287345  0.02351307 ... -0.          0.03117781\n",
      "   0.00041733]\n",
      " [ 0.06171452  0.04321004  0.01397047 ... -0.          0.03912428\n",
      "  -0.        ]\n",
      " [ 0.02351833  0.05293978  0.02128317 ...  0.03467804  0.02652864\n",
      "   0.05355895]]\n",
      "WRITING FEATURES IN A HDF5(Hierarchial Data Format version 5) FILE\n",
      "==================================================================\n"
     ]
    }
   ],
   "source": [
    "\n",
    "import os\n",
    "import numpy as np\n",
    "import import_ipynb\n",
    "from extract_cnn_vgg16_keras import VGGNet\n",
    "import h5py\n",
    "\n",
    "def getimagelist(path):\n",
    "    return [os.path.join(path,f) for f in os.listdir(path) if (f.endswith('.jpg') or f.endswith('.jpeg')) ]\n",
    "\n",
    "'''\n",
    " Extract features and index the images\n",
    "'''\n",
    "if __name__ == \"__main__\":\n",
    "    #options = arg_parse_options()\n",
    "    os.environ[\"CUDA_VISIBLE_DEVICES\"] = \"5\"\n",
    "    \n",
    "    #db = options.database\n",
    "    image_list = getimagelist(\"database\")\n",
    "    \n",
    "    #print(image_list)\n",
    "    \n",
    "    print(\"FEATURE EXTRACTION\")\n",
    "    print(\"==================\")\n",
    "    \n",
    "    img_features=[]\n",
    "    img_names=[]\n",
    "    \n",
    "    model = VGGNet()\n",
    "    \n",
    "    for i, img_path in enumerate(image_list):\n",
    "        normal_features = model.extract_feat(img_path)\n",
    "        #512-dimensional vector (512,)\n",
    "        img_name = os.path.split(img_path)[1]\n",
    "        img_features.append(normal_features)\n",
    "        img_names.append(img_name)\n",
    "        #print(\"extracting feature from image No. %d , %d images in total\" %((i+1), len(img_list)))\n",
    "    img_features=np.array(img_features)\n",
    "    \n",
    "    print(img_features)\n",
    "    \n",
    "    # directory for storing extracted features\n",
    "    #output = options.index\n",
    "    output = \"featureCNN_map.h5\"\n",
    "    \n",
    "    print(\"WRITING FEATURES IN A HDF5(Hierarchial Data Format version 5) FILE\")\n",
    "    print(\"==================================================================\")\n",
    "    \n",
    "    hdf = h5py.File(output, 'w')\n",
    "    \n",
    "    hdf.create_dataset('img_features', data = img_features)\n",
    "    hdf.create_dataset('img_names', data = np.string_(img_names))\n",
    "    hdf.close()\n",
    "\n",
    "    \n",
    "    "
   ]
  },
  {
   "cell_type": "code",
   "execution_count": null,
   "metadata": {},
   "outputs": [],
   "source": []
  },
  {
   "cell_type": "code",
   "execution_count": null,
   "metadata": {},
   "outputs": [],
   "source": []
  }
 ],
 "metadata": {
  "kernelspec": {
   "display_name": "Python 3",
   "language": "python",
   "name": "python3"
  },
  "language_info": {
   "codemirror_mode": {
    "name": "ipython",
    "version": 3
   },
   "file_extension": ".py",
   "mimetype": "text/x-python",
   "name": "python",
   "nbconvert_exporter": "python",
   "pygments_lexer": "ipython3",
   "version": "3.7.3"
  }
 },
 "nbformat": 4,
 "nbformat_minor": 2
}
